{
 "cells": [
  {
   "cell_type": "code",
   "execution_count": 2,
   "metadata": {},
   "outputs": [],
   "source": [
    "import torch\n",
    "import torch.nn as nn \n",
    "import torch.nn.functional as F\n",
    "from einops import rearrange, repeat, reduce\n",
    "from pytorch_wavelets import DWTForward, DWTInverse"
   ]
  },
  {
   "cell_type": "code",
   "execution_count": 3,
   "metadata": {},
   "outputs": [],
   "source": [
    "level = 2\n",
    "wavelet = 'haar'\n",
    "dwt1 = DWTForward(J=level, wave=wavelet, mode='zero').cuda()\n",
    "dwt2 = DWTForward(J=level-1, wave=wavelet, mode='zero').cuda()"
   ]
  },
  {
   "cell_type": "code",
   "execution_count": 8,
   "metadata": {},
   "outputs": [
    {
     "data": {
      "text/plain": [
       "(torch.Size([1, 1, 256, 256]),\n",
       " torch.Size([1, 1, 256, 256]),\n",
       " torch.Size([1, 1, 256, 256]))"
      ]
     },
     "execution_count": 8,
     "metadata": {},
     "output_type": "execute_result"
    }
   ],
   "source": [
    "x = torch.rand(1, 3, 256, 256).cuda()\n",
    "x_y = x[:,0:1]\n",
    "x_cr = x[:,1:2]\n",
    "x_cb = x[:,2:]\n",
    "shape = x_cr.shape[2]\n",
    "x_y.shape, x_cr.shape, x_cb.shape\n",
    "x_cr = F.interpolate(x_cr, size=shape//2, mode=\"bicubic\", align_corners=True)\n",
    "x_cb = F.interpolate(x_cb, size=shape//2, mode=\"bicubic\", align_corners=True)\n",
    "print(x_cr.shape, x_cb.shape)\n",
    "\n",
    "y = dwt1(x_y)\n",
    "cr = dwt2(x_cr)\n",
    "cb = dwt2(x_cb)"
   ]
  },
  {
   "cell_type": "code",
   "execution_count": 14,
   "metadata": {},
   "outputs": [],
   "source": [
    "# merge tensor\n",
    "# ll = rearrange(y[0], \"n (b c) h w -> n b c h w\", b=1, c=1)\n",
    "\n",
    "ll = y[0]\n",
    "h0 = rearrange(y[1][0], \"n b c (d h) (e w) -> n (b c d e) h w\", d =2, e =2)\n",
    "h1 = rearrange(y[1][1], \"n b c h w -> n (b c) h w\")\n",
    "yy = torch.cat([ll, h0, h1], dim = 1)\n",
    "# merge tensor\n",
    "# ll = rearrange(y[0], \"n (b c) h w -> n b c h w\", b=1, c=1)\n",
    "ll = cr[0]\n",
    "h0 = rearrange(cr[1][0], \"n b c h w -> n (b c) h w\")\n",
    "ycr = torch.cat([ll, h0], dim = 1)\n",
    "# merge tensor\n",
    "# ll = rearrange(y[0], \"n (b c) h w -> n b c h w\", b=1, c=1)\n",
    "ll = cb[0]\n",
    "h0 = rearrange(cb[1][0], \"n b c h w -> n (b c) h w\")\n",
    "ycb = torch.cat([ll, h0], dim = 1)\n",
    "o = torch.cat([yy, ycr, ycb], dim = 1)"
   ]
  },
  {
   "cell_type": "code",
   "execution_count": 11,
   "metadata": {},
   "outputs": [
    {
     "name": "stdout",
     "output_type": "stream",
     "text": [
      "2\n",
      "torch.Size([1, 1, 64, 64]) 2\n",
      "torch.Size([1, 1, 3, 128, 128]) torch.Size([1, 1, 3, 64, 64])\n",
      "2\n",
      "torch.Size([1, 1, 64, 64]) 1\n",
      "torch.Size([1, 1, 3, 64, 64])\n",
      "2\n",
      "torch.Size([1, 1, 64, 64]) 1\n",
      "torch.Size([1, 1, 3, 64, 64])\n"
     ]
    }
   ],
   "source": [
    "print(len(y))\n",
    "print(y[0].shape, len(y[1]))\n",
    "print(y[1][0].shape, y[1][1].shape)\n",
    "print(len(cr))\n",
    "print(cr[0].shape, len(cr[1]))\n",
    "print(cr[1][0].shape)\n",
    "print(len(cb))\n",
    "print(cb[0].shape, len(cb[1]))\n",
    "print(cb[1][0].shape)"
   ]
  },
  {
   "cell_type": "code",
   "execution_count": 15,
   "metadata": {},
   "outputs": [
    {
     "data": {
      "text/plain": [
       "torch.Size([1, 24, 64, 64])"
      ]
     },
     "execution_count": 15,
     "metadata": {},
     "output_type": "execute_result"
    }
   ],
   "source": [
    "o.shape"
   ]
  }
 ],
 "metadata": {
  "kernelspec": {
   "display_name": "py38",
   "language": "python",
   "name": "python3"
  },
  "language_info": {
   "codemirror_mode": {
    "name": "ipython",
    "version": 3
   },
   "file_extension": ".py",
   "mimetype": "text/x-python",
   "name": "python",
   "nbconvert_exporter": "python",
   "pygments_lexer": "ipython3",
   "version": "3.8.19"
  }
 },
 "nbformat": 4,
 "nbformat_minor": 2
}
